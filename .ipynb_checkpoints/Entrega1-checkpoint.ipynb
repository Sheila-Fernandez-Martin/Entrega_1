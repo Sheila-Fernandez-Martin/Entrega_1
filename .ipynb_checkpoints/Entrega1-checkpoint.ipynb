{
 "cells": [
  {
   "cell_type": "markdown",
   "id": "8fefad71-5212-4f2b-ad2a-ab8d7bafd92f",
   "metadata": {},
   "source": [
    "https://github.com/Sheila-Fernandez-Martin/Entrega_1_Python"
   ]
  },
  {
   "cell_type": "markdown",
   "id": "82012bc4-9ae1-4a34-8649-9b73e0f98742",
   "metadata": {},
   "source": [
    "# Entrega Python \n",
    "## Sheila Fernández Martín \n",
    "18/10/2024"
   ]
  },
  {
   "cell_type": "markdown",
   "id": "b50532a6-325d-4a82-9b9e-c4e9c2cf43ce",
   "metadata": {},
   "source": [
    "#### Ejercicios rápidos"
   ]
  },
  {
   "cell_type": "markdown",
   "id": "05e23094-a4e7-4eae-943a-1a8f61b8b033",
   "metadata": {},
   "source": [
    "1. Realizar una función que recibe 3 números (d, m, a) que representan una fecha (día, mes y año). El programa debe devolver el día (la fecha) siguiente a la recibida por parámetro. Se debe tener en cuenta los días de cada mes y los años bisiestos."
   ]
  },
  {
   "cell_type": "code",
   "execution_count": 174,
   "id": "dbf14825-60b8-487c-9896-75314752d583",
   "metadata": {},
   "outputs": [
    {
     "name": "stdout",
     "output_type": "stream",
     "text": [
      "La fecha siguiente a la indicada es: 29/2/2024\n"
     ]
    }
   ],
   "source": [
    "import cmath\n",
    "def fecha(d, m, a):\n",
    "    n_dias_mes=[31,28,31,30,31,30,31,31,30,31,30,31]\n",
    "    if (a % 4 == 0 and a % 100 != 0) or (a % 400 == 0): #para años bisiestos\n",
    "        n_dias_mes[1]=29\n",
    "    d+=1\n",
    "    if d>n_dias_mes[m-1]:\n",
    "        d=1\n",
    "        m+=1\n",
    "    if m>12:\n",
    "        m=1\n",
    "        a+=1\n",
    "    print(f\"La fecha siguiente a la indicada es: {d}/{m}/{a}\")\n",
    "\n",
    "fecha(28,2,2024)\n"
   ]
  },
  {
   "cell_type": "markdown",
   "id": "57f4b3c0-4258-480f-83bc-5c6e21f8c5ee",
   "metadata": {},
   "source": [
    "2. Dada la siguiente lista:\n",
    "\n",
    "palabras_espanol = [\"Perro\", \"Gato\", \"Casa\", \"Coche\",\"Árbol\", \"Sol\", \"Luna\", \"Mar\", \"Montaña\", \"Río\", \"Playa\", \"Libro\", \"Computadora\", \"Teléfono\", \"Amigo\", \"Familia\", \"Trabajo\", \"Comida\", \"Película\", \"Música\", \"Viaje\", \"Deporte\", \"Juego\", \"Amor\", \"Odio\", \"Felicidad\", \"Tristeza\", \"Alegría\", \"Dolor\", \"Sueño\", \"Noche\", \"Día\", \"Agua\", \"Fuego\", \"Aire\", \"Tierra\", \"Cielo\", \"Estrella\", \"Flor\", \"Fruta\", \"Verdura\", \"Chocolate\", \"Café\", \"Té\", \"Vino\", \"Cerveza\", \"Dinero\", \"Tiempo\", \"Reloj\", \"Reloj\"]\n",
    "\n",
    "Construye un programa que muestre por pantalla cuantas veces aparece cada una de ellas."
   ]
  },
  {
   "cell_type": "code",
   "execution_count": 184,
   "id": "01b09394-02b6-4a10-b81b-612a04b83348",
   "metadata": {},
   "outputs": [
    {
     "name": "stdout",
     "output_type": "stream",
     "text": [
      "Perro: 1 vez\n",
      "Gato: 1 vez\n",
      "Casa: 1 vez\n",
      "Coche: 1 vez\n",
      "Árbol: 1 vez\n",
      "Sol: 1 vez\n",
      "Luna: 1 vez\n",
      "Mar: 1 vez\n",
      "Montaña: 1 vez\n",
      "Río: 1 vez\n",
      "Playa: 1 vez\n",
      "Libro: 1 vez\n",
      "Computadora: 1 vez\n",
      "Teléfono: 1 vez\n",
      "Amigo: 1 vez\n",
      "Familia: 1 vez\n",
      "Trabajo: 1 vez\n",
      "Comida: 1 vez\n",
      "Película: 1 vez\n",
      "Música: 1 vez\n",
      "Viaje: 1 vez\n",
      "Deporte: 1 vez\n",
      "Juego: 1 vez\n",
      "Amor: 1 vez\n",
      "Odio: 1 vez\n",
      "Felicidad: 1 vez\n",
      "Tristeza: 1 vez\n",
      "Alegría: 1 vez\n",
      "Dolor: 1 vez\n",
      "Sueño: 1 vez\n",
      "Noche: 1 vez\n",
      "Día: 1 vez\n",
      "Agua: 1 vez\n",
      "Fuego: 1 vez\n",
      "Aire: 1 vez\n",
      "Tierra: 1 vez\n",
      "Cielo: 1 vez\n",
      "Estrella: 1 vez\n",
      "Flor: 1 vez\n",
      "Fruta: 1 vez\n",
      "Verdura: 1 vez\n",
      "Chocolate: 1 vez\n",
      "Café: 1 vez\n",
      "Té: 1 vez\n",
      "Vino: 1 vez\n",
      "Cerveza: 1 vez\n",
      "Dinero: 1 vez\n",
      "Tiempo: 1 vez\n",
      "Reloj: 2 veces\n"
     ]
    }
   ],
   "source": [
    "palabras_espanol = [\"Perro\", \"Gato\", \"Casa\", \"Coche\",\"Árbol\", \"Sol\", \"Luna\", \"Mar\", \"Montaña\", \"Río\", \"Playa\", \"Libro\", \"Computadora\", \n",
    "                    \"Teléfono\", \"Amigo\", \"Familia\", \"Trabajo\", \"Comida\", \"Película\", \"Música\", \"Viaje\", \"Deporte\", \"Juego\", \"Amor\", \n",
    "                    \"Odio\", \"Felicidad\", \"Tristeza\", \"Alegría\", \"Dolor\", \"Sueño\", \"Noche\", \"Día\", \"Agua\", \"Fuego\", \"Aire\", \"Tierra\", \n",
    "                    \"Cielo\", \"Estrella\", \"Flor\", \"Fruta\", \"Verdura\", \"Chocolate\", \"Café\", \"Té\", \"Vino\", \"Cerveza\", \"Dinero\", \"Tiempo\", \n",
    "                    \"Reloj\", \"Reloj\"]\n",
    "repeticiones={} #creamos el diccionario vacío \n",
    "for clave in palabras_espanol:  #vamos recorriendo la lista\n",
    "    if clave in repeticiones: #comprobamos si cada palabra (clave) ya se ha añadido antes al diccionario\n",
    "        repeticiones[clave] += 1 #si ya esta añadida, sumamos uno a su valor, que en este caso será el número de veces que se repite\n",
    "    else:\n",
    "        repeticiones[clave] = 1 #si no estaba ya en el diccionario, iniciamos su cuenta desde 1\n",
    "for clave, valor in repeticiones.items(): #recorremos el diccionario entero, es decir, sus claves y sus valores.\n",
    "    if valor==1:\n",
    "        print(f\"{clave}: {valor} vez\") \n",
    "    else:\n",
    "        print(f\"{clave}: {valor} veces\")"
   ]
  },
  {
   "cell_type": "markdown",
   "id": "2ad39c94-561f-4ad5-b842-8b2d1d7c9123",
   "metadata": {},
   "source": [
    "3. Dado el siguiente diccionario con información del precio de diferentes productos por día:\n",
    "\n",
    "precio_origen = {\n",
    "\"cebolla\": [30.3, 20.3, 25.9, 39.0], # céntimos/kg\n",
    "\n",
    "\"patata\":[0.33, 0.43, 0.34, 0.12], # euro/kg\n",
    "\n",
    "\"naranja\":[0.45, 0.56, 0.38, 0.43] # euro/kg\n",
    "}\n",
    "\n",
    "\n",
    "Responde a las siguientes preguntas:\n",
    "\n",
    "• ¿Cuál es el precio máximo de cada producto?\n",
    "\n",
    "• ¿Cuál es el producto más caro?\n",
    "\n",
    "• ¿Qué día son más caras las naranjas?"
   ]
  },
  {
   "cell_type": "code",
   "execution_count": 193,
   "id": "0309b76d-c3ac-496e-bbf4-865c375f8787",
   "metadata": {},
   "outputs": [
    {
     "name": "stdout",
     "output_type": "stream",
     "text": [
      "El precio máximo de cada producto es {'cebolla': 0.39, 'patata': 0.43, 'naranja': 0.56}.\n",
      "El producto más caro es la naranja.\n",
      "El día más caro de la naranja es el día 2.\n"
     ]
    }
   ],
   "source": [
    "precio_origen = { \"cebolla\": [30.3, 20.3, 25.9, 39.0], # céntimos/kg \n",
    "                 \"patata\":[0.33, 0.43, 0.34, 0.12], # euro/kg \n",
    "                 \"naranja\":[0.45, 0.56, 0.38, 0.43] # euro/kg \n",
    "                }\n",
    "#ponemos el precio en euros para poder compararlo con los demás productos cómodamente:\n",
    "precio_origen[\"cebolla\"] = [precio / 100 for precio in precio_origen[\"cebolla\"]] \n",
    "\n",
    "#recorremos los items del diccionario (producto y precios) y calculamos el precio máximo asociado a cada producto:\n",
    "maximo = {producto: max(precios) for producto, precios in precio_origen.items()}\n",
    "print(f\"El precio máximo de cada producto es {maximo}.\")\n",
    "\n",
    "#calculamos el maximo valor del apartado anterior y obtenemos el producto correspondiente:\n",
    "prod_caro=max(maximo, key=maximo.get)\n",
    "print(f\"El producto más caro es la {prod_caro}.\")\n",
    "\n",
    "#calculamos el precio más alto del producto (en este caso, \"naranja\") y obtenemos su índice correspondiente con el día de dicho precio:\n",
    "producto_precios = precio_origen[\"naranja\"]\n",
    "dia_producto = producto_precios.index(max(producto_precios)) + 1\n",
    "print(f\"El día más caro de la naranja es el día {dia_producto}.\")"
   ]
  },
  {
   "cell_type": "markdown",
   "id": "0f243ccd-6797-428e-a988-743d056887fb",
   "metadata": {},
   "source": [
    "#### Problema"
   ]
  },
  {
   "cell_type": "markdown",
   "id": "185a62d9-0745-47f4-a457-b8592e5e5e9b",
   "metadata": {},
   "source": [
    "Una empresa tiene un inventario de productos con diferentes categorías, y cada producto tiene un precio y una cantidad en stock. El objetivo es gestionar el inventario de forma eficiente. Instrucciones:\n",
    "\n",
    "1. Crea un diccionario donde la clave sea el nombre de una categoría de producto y el valor sea una lista de tuplas. Cada tupla contendrá el nombre del producto, el precio y la cantidad en stock."
   ]
  },
  {
   "cell_type": "code",
   "execution_count": 177,
   "id": "ad6f6130-b0fc-428e-b26a-9f86b51ea10d",
   "metadata": {},
   "outputs": [
    {
     "data": {
      "text/plain": [
       "{'accesorios': {'pendientes': [8, 30],\n",
       "  'cinturón': [6, 25],\n",
       "  'collar': [13, 15]},\n",
       " 'ropa': {'vestido negro': [25, 60],\n",
       "  'cazadora blanca': [35, 45],\n",
       "  'pantalones vaqueros': [30, 70]},\n",
       " 'zapatos': {'botas': [50, 40], 'tacones': [40, 55], 'chanclas': [4, 100]}}"
      ]
     },
     "execution_count": 177,
     "metadata": {},
     "output_type": "execute_result"
    }
   ],
   "source": [
    "#creamos un diccionario con distintas categorías y dentro de cada una, creamos diccionarios para los productos\n",
    "inventario={\"accesorios\": {\"pendientes\": [8, 30], \"cinturón\": [6, 25], \"collar\": [13, 15]},\n",
    "           \"ropa\": {\"vestido negro\": [25, 60], \"cazadora blanca\": [35, 45], \"pantalones vaqueros\":[30, 70]},\n",
    "           \"zapatos\": {\"botas\": [50, 40], \"tacones\": [40, 55], \"chanclas\": [4, 100]}}\n",
    "inventario"
   ]
  },
  {
   "cell_type": "markdown",
   "id": "ba3b68d8-6ca5-452d-94e8-cfb67470a41a",
   "metadata": {},
   "source": [
    "2. Crea una función que calcule el valor total de inventario por categoría (precio por cantidad para cada producto)."
   ]
  },
  {
   "cell_type": "code",
   "execution_count": 181,
   "id": "706de2f5-d951-40f0-a651-bf8b8ad690f4",
   "metadata": {},
   "outputs": [
    {
     "name": "stdout",
     "output_type": "stream",
     "text": [
      "El valor total del inventario para la categoría 'zapatos' es 4600 euros.\n"
     ]
    }
   ],
   "source": [
    "def valor_total(categoria):\n",
    "    total=0 #iniciamos la cuenta en cero\n",
    "    for producto in inventario[categoria]: #recorremos los productos de la categoría del inventario\n",
    "        precio,cantidad = inventario[categoria][producto] \n",
    "        total+=precio*cantidad\n",
    "    return total\n",
    "total = valor_total(\"zapatos\")\n",
    "print(f\"El valor total del inventario para la categoría '{categoria}' es {total} euros.\")"
   ]
  },
  {
   "cell_type": "markdown",
   "id": "c73462ef-f75e-4eec-b7e4-06c80254629c",
   "metadata": {},
   "source": [
    "3. Muestra la categoría que tiene el valor total más alto en inventario."
   ]
  },
  {
   "cell_type": "code",
   "execution_count": 182,
   "id": "00ef5019-a8df-4293-9cc0-b8828118d859",
   "metadata": {},
   "outputs": [
    {
     "name": "stdout",
     "output_type": "stream",
     "text": [
      "El valor total más alto es 5175 euros de la categoría 'ropa'.\n"
     ]
    }
   ],
   "source": [
    "max_valor=0 \n",
    "max_categoria= None #iniciamos la categoría cuyo valor total es el mayor como none\n",
    "for categoria in inventario:\n",
    "    valor=valor_total(categoria)\n",
    "    if valor>max_valor:\n",
    "        max_valor=valor\n",
    "        max_categoria= categoria\n",
    "print(f\"El valor total más alto es {max_valor} euros de la categoría '{max_categoria}'.\")"
   ]
  },
  {
   "cell_type": "markdown",
   "id": "5fcf5e7d-5eda-4da0-83c0-93ec0695adde",
   "metadata": {},
   "source": [
    "4. Añade una opción para actualizar el stock de un producto en una categoría específica."
   ]
  },
  {
   "cell_type": "code",
   "execution_count": 180,
   "id": "07cb8be4-9383-410c-868d-ef24832b62bc",
   "metadata": {},
   "outputs": [
    {
     "name": "stdout",
     "output_type": "stream",
     "text": [
      "El producto 'collar' de la categoría 'accesorios' cuyo stock anterior era 15 unidades, ahora tiene un stock de 40 unidades.\n"
     ]
    }
   ],
   "source": [
    "def actualizar(categoria, producto, stock_actualizado):\n",
    "    cantidad=inventario[categoria][producto][1] #asocia el nombre cantidad a la posición 1 (Python empieza a contar desde 0)\n",
    "    inventario[categoria][producto][1] = stock_actualizado #le asigna el nuevo valor\n",
    "    return print(f\"El producto '{producto}' de la categoría '{categoria}' cuyo stock anterior era {cantidad} unidades, ahora tiene un stock de {stock_actualizado} unidades.\")\n",
    "actualizar(\"accesorios\",\"collar\", 40)"
   ]
  }
 ],
 "metadata": {
  "kernelspec": {
   "display_name": "Python 3 (ipykernel)",
   "language": "python",
   "name": "python3"
  },
  "language_info": {
   "codemirror_mode": {
    "name": "ipython",
    "version": 3
   },
   "file_extension": ".py",
   "mimetype": "text/x-python",
   "name": "python",
   "nbconvert_exporter": "python",
   "pygments_lexer": "ipython3",
   "version": "3.13.0"
  }
 },
 "nbformat": 4,
 "nbformat_minor": 5
}
